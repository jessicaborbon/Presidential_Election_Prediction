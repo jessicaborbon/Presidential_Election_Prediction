{
 "cells": [
  {
   "cell_type": "code",
   "execution_count": 11,
   "id": "d1d63f53-9b2e-42f3-b66d-de5217e0cf26",
   "metadata": {},
   "outputs": [],
   "source": [
    "# Dependencies and Credentials\n",
    "import requests\n",
    "import tweepy\n",
    "import pandas as pd\n",
    "from config import api_key"
   ]
  },
  {
   "cell_type": "code",
   "execution_count": 12,
   "id": "1d3a186f-81d6-401d-93f7-d67ef3a867eb",
   "metadata": {},
   "outputs": [],
   "source": [
    "# Define Permissions\n",
    "BEARER_TOKEN = \"AAAAAAAAAAAAAAAAAAAAALe%2BvgEAAAAAcLsxdbFdxXNYG7lC9Fs6fPBwvSM%3DLK5VO6DZjTnshVMxsgva9djxz6DOu6C9mi97oGIV1Pl9dY7KGT\""
   ]
  },
  {
   "cell_type": "code",
   "execution_count": 13,
   "id": "acacb8d3-a6f6-40f4-95a9-f91f4a0ec118",
   "metadata": {},
   "outputs": [],
   "source": [
    "# Define URL\n",
    "base_url = 'https://api.x.com/2/tweets/search/recent?'\n",
    "# base_url = 'https://api.twitter.com/2/tweets/search/recent?'"
   ]
  },
  {
   "cell_type": "code",
   "execution_count": 14,
   "id": "e97576da-8feb-4590-8360-ca9bf5526903",
   "metadata": {},
   "outputs": [],
   "source": [
    "# Define parameters\n",
    "query_params = {\n",
    "    'query': 'US presidential election',  # Your search query\n",
    "    'tweet.fields': 'author_id,context_annotations,created_at',  # Fields to return\n",
    "    'max_results': 100,  # Number of results per request (max 100)\n",
    "    'start_time': '2016-01-01T00:00:00Z',  # Start time for the search\n",
    "    'end_time': '2016-12-31T23:59:59Z'  # End time for the search\n",
    "}"
   ]
  },
  {
   "cell_type": "code",
   "execution_count": 15,
   "id": "be17fb56-5a95-49e6-9446-4b04027ddea8",
   "metadata": {},
   "outputs": [],
   "source": [
    "# Prepare headers\n",
    "headers = {\n",
    "    'Authorization': f'Bearer {BEARER_TOKEN}'\n",
    "}"
   ]
  },
  {
   "cell_type": "code",
   "execution_count": 16,
   "id": "b1b0524f-868f-46df-aea8-4b22351c6bfa",
   "metadata": {},
   "outputs": [],
   "source": [
    "# Function to fetch tweets\n",
    "def fetch_tweets(base_url, query_params, headers):\n",
    "    response = requests.get(base_url, params=query_params, headers=headers)\n",
    "    \n",
    "    # Check if the request was successful\n",
    "    if response.status_code == 200:\n",
    "        return response.json()  # Return JSON data\n",
    "    else:\n",
    "        print(f\"Request failed with status code {response.status_code}\")\n",
    "        print(response.json())  # Print the error response\n",
    "        return None"
   ]
  },
  {
   "cell_type": "code",
   "execution_count": 17,
   "id": "2c26c06c-b1e6-47f7-acc9-f1af1a2b80a4",
   "metadata": {},
   "outputs": [
    {
     "name": "stdout",
     "output_type": "stream",
     "text": [
      "Request failed with status code 403\n",
      "{'client_id': '29277879', 'detail': 'When authenticating requests to the Twitter API v2 endpoints, you must use keys and tokens from a Twitter developer App that is attached to a Project. You can create a project via the developer portal.', 'registration_url': 'https://developer.twitter.com/en/docs/projects/overview', 'title': 'Client Forbidden', 'required_enrollment': 'Appropriate Level of API Access', 'reason': 'client-not-enrolled', 'type': 'https://api.twitter.com/2/problems/client-forbidden'}\n"
     ]
    }
   ],
   "source": [
    "# Fetch tweets\n",
    "data = fetch_tweets(base_url, query_params, headers)"
   ]
  },
  {
   "cell_type": "code",
   "execution_count": null,
   "id": "febdec11-9f31-4342-b115-405f1d46d552",
   "metadata": {},
   "outputs": [],
   "source": [
    "# Process and save the results\n",
    "if data:\n",
    "    tweets = data.get('data', [])\n",
    "    # Create a DataFrame\n",
    "    df = pd.DataFrame([\n",
    "        {\n",
    "            'id': tweet.get('id'),\n",
    "            'author_id': tweet.get('author_id'),\n",
    "            'created_at': tweet.get('created_at'),\n",
    "            'context_annotations': tweet.get('context_annotations')\n",
    "        }\n",
    "        for tweet in tweets\n",
    "    ])\n",
    "    # Save to CSV\n",
    "    df.to_csv('tweets_2016_with_details.csv', index=False)\n",
    "\n",
    "    print(\"Data saved to tweets_2016_with_details.csv\")\n",
    "else:\n",
    "    print(\"No data to save.\")"
   ]
  },
  {
   "cell_type": "code",
   "execution_count": null,
   "id": "626a3a16-3320-427b-aecb-a4558000ce01",
   "metadata": {},
   "outputs": [],
   "source": []
  },
  {
   "cell_type": "code",
   "execution_count": null,
   "id": "5808f788-b7fd-468a-a138-78b29e5c561d",
   "metadata": {},
   "outputs": [],
   "source": [
    "# # Authenticate to Twitter\n",
    "# client = tweepy.Client(bearer_token=BEARER_TOKEN)\n",
    "\n",
    "# def fetch_tweets(query, start_time, end_time, max_results=100):\n",
    "#     tweets = []\n",
    "#     for tweet in tweepy.Paginator(client.search_recent_tweets,\n",
    "#                                   query=query,\n",
    "#                                   start_time=start_time,\n",
    "#                                   end_time=end_time,\n",
    "#                                   tweet_fields=['created_at', 'geo', 'place'],\n",
    "#                                   max_results=max_results).flatten(limit=1000):\n",
    "#         # Extract location information\n",
    "#         location = None\n",
    "#         if tweet.geo:\n",
    "#             location = tweet.geo['place_id']  # For geotagged tweets\n",
    "#         elif tweet.place:\n",
    "#             location = tweet.place['full_name']  # For tweets with place information\n",
    "\n",
    "#         # Handle cases where location data might be missing\n",
    "#         location_info = tweet.place['full_name'] if tweet.place else None\n",
    "\n",
    "#         tweets.append([tweet.id, tweet.text, tweet.created_at, location_info])\n",
    "#     return tweets"
   ]
  },
  {
   "cell_type": "code",
   "execution_count": null,
   "id": "b7e637aa-6398-4afa-b684-66b763a73898",
   "metadata": {},
   "outputs": [],
   "source": [
    "# Example usage for the year 2016\n",
    "tweets_2016 = fetch_tweets(\"US presidential election\", \"2016-01-01T00:00:00Z\", \"2016-12-31T23:59:59Z\")\n",
    "df_2016 = pd.DataFrame(tweets_2016, columns=['id', 'text', 'created_at', 'location'])\n",
    "df_2016.to_csv('tweets_2016_with_location.csv', index=False)"
   ]
  }
 ],
 "metadata": {
  "kernelspec": {
   "display_name": "Python 3 (ipykernel)",
   "language": "python",
   "name": "python3"
  },
  "language_info": {
   "codemirror_mode": {
    "name": "ipython",
    "version": 3
   },
   "file_extension": ".py",
   "mimetype": "text/x-python",
   "name": "python",
   "nbconvert_exporter": "python",
   "pygments_lexer": "ipython3",
   "version": "3.11.7"
  }
 },
 "nbformat": 4,
 "nbformat_minor": 5
}
